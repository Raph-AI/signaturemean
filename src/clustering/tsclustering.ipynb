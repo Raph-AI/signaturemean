{
 "cells": [
  {
   "cell_type": "code",
   "execution_count": 1,
   "metadata": {},
   "outputs": [],
   "source": [
    "import os\n",
    "import sktime\n",
    "from sktime.datasets import load_from_tsfile_to_dataframe\n",
    "from tslearn.clustering import TimeSeriesKMeans\n",
    "# from tslearn.preprocessing import TimeSeriesScalerMeanVariance\n",
    "# from tslearn.preprocessing import TimeSeriesResampler\n",
    "import matplotlib.pyplot as plt\n",
    "import numpy as np\n",
    "import signatory\n",
    "import torch\n",
    "import mean_pennec\n",
    "import pandas as pd\n",
    "import time"
   ]
  },
  {
   "cell_type": "code",
   "execution_count": 2,
   "metadata": {},
   "outputs": [],
   "source": [
    "X_train, y_train = load_from_tsfile_to_dataframe(\"./data/PenDigits/PenDigits_TRAIN.ts\")\n",
    "X_test, y_test = load_from_tsfile_to_dataframe(\"./data/PenDigits/PenDigits_TEST.ts\")"
   ]
  },
  {
   "cell_type": "code",
   "execution_count": 3,
   "metadata": {},
   "outputs": [],
   "source": [
    "X = pd.concat([X_train, X_test], ignore_index=True)\n",
    "y_true = np.concatenate((y_train, y_test))"
   ]
  },
  {
   "cell_type": "code",
   "execution_count": 4,
   "metadata": {},
   "outputs": [
    {
     "data": {
      "image/png": "[encoded data removed]",
      "text/plain": [
       "<Figure size 144x144 with 1 Axes>"
      ]
     },
     "metadata": {
      "needs_background": "light"
     },
     "output_type": "display_data"
    },
    {
     "data": {
      "image/png": "[encoded data removed]",
      "text/plain": [
       "<Figure size 144x144 with 1 Axes>"
      ]
     },
     "metadata": {
      "needs_background": "light"
     },
     "output_type": "display_data"
    },
    {
     "data": {
      "image/png": "[encoded data removed]",
      "text/plain": [
       "<Figure size 144x144 with 1 Axes>"
      ]
     },
     "metadata": {
      "needs_background": "light"
     },
     "output_type": "display_data"
    },
    {
     "data": {
      "image/png": "[encoded data removed]",
      "text/plain": [
       "<Figure size 144x144 with 1 Axes>"
      ]
     },
     "metadata": {
      "needs_background": "light"
     },
     "output_type": "display_data"
    },
    {
     "data": {
      "image/png": "[encoded data removed]",
      "text/plain": [
       "<Figure size 144x144 with 1 Axes>"
      ]
     },
     "metadata": {
      "needs_background": "light"
     },
     "output_type": "display_data"
    }
   ],
   "source": [
    "for k in range(5):\n",
    "    plt.figure(figsize=(2,2))\n",
    "    plt.plot(X.at[k,'dim_0'], X.at[k,'dim_1'])"
   ]
  },
  {
   "cell_type": "code",
   "execution_count": 21,
   "metadata": {},
   "outputs": [
    {
     "data": {
      "text/plain": [
       "(array(['0', '1', '2', '3', '4', '5', '6', '7', '8', '9'], dtype='<U1'),\n",
       " array([1143, 1143, 1144, 1055, 1144, 1055, 1056, 1142, 1055, 1055]))"
      ]
     },
     "execution_count": 21,
     "metadata": {},
     "output_type": "execute_result"
    }
   ],
   "source": [
    "np.unique(y_true, return_counts=True)"
   ]
  },
  {
   "cell_type": "markdown",
   "metadata": {},
   "source": [
    "**Remark.** Each class represent an equal proportion of the data."
   ]
  },
  {
   "cell_type": "code",
   "execution_count": 5,
   "metadata": {},
   "outputs": [],
   "source": [
    "X = X.to_numpy()"
   ]
  },
  {
   "cell_type": "code",
   "execution_count": 6,
   "metadata": {},
   "outputs": [
    {
     "data": {
      "text/plain": [
       "(10992, 2)"
      ]
     },
     "execution_count": 6,
     "metadata": {},
     "output_type": "execute_result"
    }
   ],
   "source": [
    "X.shape"
   ]
  },
  {
   "cell_type": "code",
   "execution_count": 7,
   "metadata": {},
   "outputs": [],
   "source": [
    "batch = X.shape[0]\n",
    "stream = len(X[0,0])\n",
    "channels = X.shape[1]"
   ]
  },
  {
   "cell_type": "code",
   "execution_count": 8,
   "metadata": {},
   "outputs": [],
   "source": [
    "Xtemp = np.empty((batch, stream, channels))\n",
    "for obs in range(batch):\n",
    "    for channel in range(channels):\n",
    "        Xtemp[obs, :, channel] = X[obs, channel]"
   ]
  },
  {
   "cell_type": "code",
   "execution_count": 9,
   "metadata": {},
   "outputs": [],
   "source": [
    "Xtemp = torch.from_numpy(Xtemp)\n",
    "X = Xtemp"
   ]
  },
  {
   "cell_type": "code",
   "execution_count": 10,
   "metadata": {},
   "outputs": [],
   "source": [
    "def datascaling(data):\n",
    "    \"Each observation is set to have total variation norm equals to 1.\"\n",
    "    batch, stream, channels = data.shape\n",
    "    print(f\"stream = {stream}\")\n",
    "    for i in range(batch):\n",
    "        tvnorm = np.array([(data[i, k, :] - data[i, k-1, :]).numpy() for k in range(1, stream)])\n",
    "        tvnorm = np.sum(tvnorm, axis=0)\n",
    "        tvnorm = np.linalg.norm(tvnorm)\n",
    "        print(f\"tvnorm obs #{i} = {tvnorm}\")\n",
    "        data[i] = data[i]/tvnorm\n",
    "        print(data[i])\n",
    "    return(data)"
   ]
  },
  {
   "cell_type": "markdown",
   "metadata": {},
   "source": [
    "**STEP 1.**  dataset of paths `X` already normalized."
   ]
  },
  {
   "cell_type": "code",
   "execution_count": 11,
   "metadata": {},
   "outputs": [],
   "source": [
    "depth = 5\n",
    "SX = signatory.signature(X, depth=depth)"
   ]
  },
  {
   "cell_type": "code",
   "execution_count": 12,
   "metadata": {},
   "outputs": [
    {
     "data": {
      "text/plain": [
       "tensor([[-7.0000e+00, -2.0000e+00,  2.4500e+01,  ...,  3.3482e+08,\n",
       "         -8.5188e+07, -2.6667e-01],\n",
       "        [ 1.0000e+02, -8.3000e+01,  5.0000e+03,  ..., -3.6765e+07,\n",
       "          1.8003e+08, -3.2825e+07],\n",
       "        [ 1.6000e+01, -5.7000e+01,  1.2800e+02,  ..., -2.3007e+07,\n",
       "         -5.6107e+05, -5.0141e+06],\n",
       "        ...,\n",
       "        [-1.8000e+01, -7.0000e+00,  1.6200e+02,  ..., -8.0391e+08,\n",
       "          2.1789e+08, -1.4006e+02],\n",
       "        [-9.0000e+00, -1.9000e+01,  4.0500e+01,  ..., -7.5918e+08,\n",
       "          2.4092e+08, -2.0634e+04],\n",
       "        [ 2.7000e+01, -1.0000e+02,  3.6450e+02,  ...,  9.2496e+07,\n",
       "          2.5937e+07, -8.3333e+07]], dtype=torch.float64)"
      ]
     },
     "execution_count": 12,
     "metadata": {},
     "output_type": "execute_result"
    }
   ],
   "source": [
    "SX"
   ]
  },
  {
   "cell_type": "code",
   "execution_count": 13,
   "metadata": {},
   "outputs": [
    {
     "data": {
      "text/plain": [
       "torch.Size([10992, 62])"
      ]
     },
     "execution_count": 13,
     "metadata": {},
     "output_type": "execute_result"
    }
   ],
   "source": [
    "SX.shape"
   ]
  },
  {
   "cell_type": "code",
   "execution_count": 14,
   "metadata": {},
   "outputs": [],
   "source": [
    "def kmeans(k, signatures, depth, channels, max_iterations, verbose=False):\n",
    "    \"\"\"\n",
    "    Perform k-means on a dataset of signatures.\n",
    "    \"\"\"\n",
    "    batch, siglen = signatures.shape\n",
    "    y = -1*np.ones(batch, dtype='int')  # corresponding cluster index for each obs\n",
    "    timestr = time.strftime(\"%Y%m%d_%H%M%S\")\n",
    "    logsfilename = f'./logs/log_clusteridx_{timestr}.txt'\n",
    "    with open(logsfilename, 'w') as the_file:\n",
    "        the_file.write('')\n",
    "    # INITIALIZATION\n",
    "    # choose k obs randomly to start from\n",
    "    rd_idx = np.random.randint(batch, size=k)\n",
    "    means = signatures[rd_idx]\n",
    "    for iteration in range(max_iterations):\n",
    "        # if iteration%5==0:\n",
    "        print(f\"iteration #{iteration}\")\n",
    "        # ASSIGN OBS TO CLUSTER W/ NEAREST CENTROID\n",
    "        for idx, sig in enumerate(signatures):  # L2 DISTANCE\n",
    "            id_cluster = np.argmin([torch.norm(sig-means[i]) for i in range(k)])\n",
    "            y[idx] = id_cluster\n",
    "        # UPDATE MEAN VALUES TO MEAN OF CLUSTER\n",
    "        sum1 = 0\n",
    "        for i in range(k):\n",
    "            to_average = signatures[y==i, :]  # select obs of cluster i\n",
    "            sum1 += to_average.shape[0]\n",
    "            if not len(to_average)==0:\n",
    "                means[i] = mean_pennec.mean(to_average, depth, channels)\n",
    "        if verbose:\n",
    "            print(f\"SUM  = {sum1}\")\n",
    "            print(f\"first cluster indices : {y[:15]}\")\n",
    "            print(f\"mean values\") \n",
    "            print((means[0])[14:24])\n",
    "            print((means[3])[14:24])\n",
    "            print((means[6])[14:24])\n",
    "        with open(logsfilename, 'a') as the_file:\n",
    "            the_file.write(f'{list(y)}\\n')\n",
    "    return(y)"
   ]
  },
  {
   "cell_type": "code",
   "execution_count": 22,
   "metadata": {},
   "outputs": [
    {
     "name": "stdout",
     "output_type": "stream",
     "text": [
      "iteration #0\n",
      "iteration #1\n",
      "iteration #2\n",
      "iteration #3\n",
      "iteration #4\n",
      "iteration #5\n",
      "iteration #6\n",
      "iteration #7\n",
      "iteration #8\n",
      "iteration #9\n",
      "iteration #10\n",
      "iteration #11\n",
      "iteration #12\n",
      "iteration #13\n",
      "iteration #14\n",
      "iteration #15\n",
      "iteration #16\n",
      "iteration #17\n",
      "iteration #18\n",
      "iteration #19\n",
      "iteration #20\n",
      "iteration #21\n",
      "iteration #22\n",
      "iteration #23\n",
      "iteration #24\n",
      "iteration #25\n",
      "iteration #26\n",
      "iteration #27\n",
      "iteration #28\n",
      "iteration #29\n",
      "duration of algorithm : -27.491 min\n"
     ]
    }
   ],
   "source": [
    "start = time.time()\n",
    "y = kmeans(k=10, \n",
    "           signatures=SX, \n",
    "           depth=depth, \n",
    "           channels=channels, \n",
    "           max_iterations=30)\n",
    "end = time.time()\n",
    "print(f\"duration of algorithm : {np.around((end-start)/60, 2)} min\")"
   ]
  },
  {
   "cell_type": "code",
   "execution_count": 23,
   "metadata": {},
   "outputs": [
    {
     "data": {
      "text/plain": [
       "array(['8', '2', '1', ..., '0', '0', '4'], dtype='<U1')"
      ]
     },
     "execution_count": 23,
     "metadata": {},
     "output_type": "execute_result"
    }
   ],
   "source": [
    "y_true"
   ]
  },
  {
   "cell_type": "code",
   "execution_count": 24,
   "metadata": {},
   "outputs": [
    {
     "data": {
      "text/plain": [
       "array([ True, False, False, ..., False, False, False])"
      ]
     },
     "execution_count": 24,
     "metadata": {},
     "output_type": "execute_result"
    }
   ],
   "source": [
    "y_true=='8'"
   ]
  },
  {
   "cell_type": "code",
   "execution_count": 25,
   "metadata": {},
   "outputs": [
    {
     "data": {
      "text/plain": [
       "array([2, 1, 1, 1, 1, 1, 1, 8, 3, 9, 6, 2, 6, 6, 1])"
      ]
     },
     "execution_count": 25,
     "metadata": {},
     "output_type": "execute_result"
    }
   ],
   "source": [
    "y[:15]"
   ]
  },
  {
   "cell_type": "code",
   "execution_count": 26,
   "metadata": {},
   "outputs": [
    {
     "data": {
      "text/plain": [
       "array(['8', '2', '1', '4', '1', '6', '4', '0', '5', '0', '9', '8', '5',\n",
       "       '9', '7'], dtype='<U1')"
      ]
     },
     "execution_count": 26,
     "metadata": {},
     "output_type": "execute_result"
    }
   ],
   "source": [
    "y_true[:15]"
   ]
  },
  {
   "cell_type": "code",
   "execution_count": 30,
   "metadata": {},
   "outputs": [
    {
     "name": "stdout",
     "output_type": "stream",
     "text": [
      "true number = 0 ; (array([1, 2, 4, 7, 8, 9]), array([  9,  15,  46,   8, 600, 465]))\n",
      "true number = 1 ; (array([0, 1]), array([  51, 1092]))\n",
      "true number = 2 ; (array([1, 4, 5]), array([1087,   53,    4]))\n",
      "true number = 3 ; (array([0, 1, 4]), array([997,  57,   1]))\n",
      "true number = 4 ; (array([1, 4, 6]), array([1134,    2,    8]))\n",
      "true number = 5 ; (array([0, 1, 3, 5, 6, 7]), array([ 54, 223, 330,  25, 170, 253]))\n",
      "true number = 6 ; (array([1, 3, 4, 8, 9]), array([167,   1, 857,   1,  30]))\n",
      "true number = 7 ; (array([0, 1, 5]), array([ 42, 384, 716]))\n",
      "true number = 8 ; (array([0, 1, 2, 3, 4, 5, 6, 7, 8]), array([ 11, 341, 322,   1,  37,  10,   1, 331,   1]))\n",
      "true number = 9 ; (array([0, 1, 2, 4, 6, 7]), array([ 75, 488,   4,  66, 418,   4]))\n"
     ]
    }
   ],
   "source": [
    "for i in range(10):\n",
    "    print(f\"true number = {i} ;\", np.unique(y[y_true==f'{i}'], return_counts=True))"
   ]
  },
  {
   "cell_type": "code",
   "execution_count": null,
   "metadata": {},
   "outputs": [],
   "source": []
  }
 ],
 "metadata": {
  "kernelspec": {
   "display_name": "Python 3",
   "language": "python",
   "name": "python3"
  },
  "language_info": {
   "codemirror_mode": {
    "name": "ipython",
    "version": 3
   },
   "file_extension": ".py",
   "mimetype": "text/x-python",
   "name": "python",
   "nbconvert_exporter": "python",
   "pygments_lexer": "ipython3",
   "version": "3.8.10"
  }
 },
 "nbformat": 4,
 "nbformat_minor": 4
}
